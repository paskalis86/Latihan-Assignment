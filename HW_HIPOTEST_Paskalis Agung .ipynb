{
 "cells": [
  {
   "cell_type": "markdown",
   "metadata": {
    "id": "oB7M7LwctaIO"
   },
   "source": [
    "# PR\n",
    "\n",
    "Pada tugas sesi ini kalian akan mengerjakan beberapa soal terkait dengan statistika deskriptif dan inferensi statistik.\n",
    "\n",
    "Data yang digunakan adalah data hasil ujian murid sebelum vs setelah mendapatkan pelatihan modul khusus.\n",
    "\n",
    "Fokus dari analisis adalah ingin mengetahui efektivitas dari pemberian modul tambahan."
   ]
  },
  {
   "cell_type": "code",
   "execution_count": 23,
   "metadata": {
    "id": "bvtjFOW1qr4h"
   },
   "outputs": [],
   "source": [
    "import numpy as np\n",
    "import pandas as pd\n",
    "import matplotlib.pyplot as plt\n",
    "import scipy"
   ]
  },
  {
   "cell_type": "code",
   "execution_count": 2,
   "metadata": {
    "colab": {
     "base_uri": "https://localhost:8080/",
     "height": 677
    },
    "id": "KRvJOTliqwRq",
    "outputId": "a1ad0b8c-bfaa-4050-af0e-1d8069048f3a"
   },
   "outputs": [
    {
     "data": {
      "text/html": [
       "<div>\n",
       "<style scoped>\n",
       "    .dataframe tbody tr th:only-of-type {\n",
       "        vertical-align: middle;\n",
       "    }\n",
       "\n",
       "    .dataframe tbody tr th {\n",
       "        vertical-align: top;\n",
       "    }\n",
       "\n",
       "    .dataframe thead th {\n",
       "        text-align: right;\n",
       "    }\n",
       "</style>\n",
       "<table border=\"1\" class=\"dataframe\">\n",
       "  <thead>\n",
       "    <tr style=\"text-align: right;\">\n",
       "      <th></th>\n",
       "      <th>Student</th>\n",
       "      <th>Pre-module</th>\n",
       "      <th>Post-module</th>\n",
       "    </tr>\n",
       "  </thead>\n",
       "  <tbody>\n",
       "    <tr>\n",
       "      <th>0</th>\n",
       "      <td>1</td>\n",
       "      <td>18</td>\n",
       "      <td>22</td>\n",
       "    </tr>\n",
       "    <tr>\n",
       "      <th>1</th>\n",
       "      <td>2</td>\n",
       "      <td>21</td>\n",
       "      <td>25</td>\n",
       "    </tr>\n",
       "    <tr>\n",
       "      <th>2</th>\n",
       "      <td>3</td>\n",
       "      <td>16</td>\n",
       "      <td>17</td>\n",
       "    </tr>\n",
       "    <tr>\n",
       "      <th>3</th>\n",
       "      <td>4</td>\n",
       "      <td>22</td>\n",
       "      <td>24</td>\n",
       "    </tr>\n",
       "    <tr>\n",
       "      <th>4</th>\n",
       "      <td>5</td>\n",
       "      <td>19</td>\n",
       "      <td>16</td>\n",
       "    </tr>\n",
       "    <tr>\n",
       "      <th>5</th>\n",
       "      <td>6</td>\n",
       "      <td>24</td>\n",
       "      <td>29</td>\n",
       "    </tr>\n",
       "    <tr>\n",
       "      <th>6</th>\n",
       "      <td>7</td>\n",
       "      <td>17</td>\n",
       "      <td>20</td>\n",
       "    </tr>\n",
       "    <tr>\n",
       "      <th>7</th>\n",
       "      <td>8</td>\n",
       "      <td>21</td>\n",
       "      <td>23</td>\n",
       "    </tr>\n",
       "    <tr>\n",
       "      <th>8</th>\n",
       "      <td>9</td>\n",
       "      <td>23</td>\n",
       "      <td>19</td>\n",
       "    </tr>\n",
       "    <tr>\n",
       "      <th>9</th>\n",
       "      <td>10</td>\n",
       "      <td>18</td>\n",
       "      <td>20</td>\n",
       "    </tr>\n",
       "    <tr>\n",
       "      <th>10</th>\n",
       "      <td>11</td>\n",
       "      <td>14</td>\n",
       "      <td>15</td>\n",
       "    </tr>\n",
       "    <tr>\n",
       "      <th>11</th>\n",
       "      <td>12</td>\n",
       "      <td>16</td>\n",
       "      <td>15</td>\n",
       "    </tr>\n",
       "    <tr>\n",
       "      <th>12</th>\n",
       "      <td>13</td>\n",
       "      <td>16</td>\n",
       "      <td>18</td>\n",
       "    </tr>\n",
       "    <tr>\n",
       "      <th>13</th>\n",
       "      <td>14</td>\n",
       "      <td>19</td>\n",
       "      <td>26</td>\n",
       "    </tr>\n",
       "    <tr>\n",
       "      <th>14</th>\n",
       "      <td>15</td>\n",
       "      <td>18</td>\n",
       "      <td>18</td>\n",
       "    </tr>\n",
       "    <tr>\n",
       "      <th>15</th>\n",
       "      <td>16</td>\n",
       "      <td>20</td>\n",
       "      <td>24</td>\n",
       "    </tr>\n",
       "    <tr>\n",
       "      <th>16</th>\n",
       "      <td>17</td>\n",
       "      <td>12</td>\n",
       "      <td>18</td>\n",
       "    </tr>\n",
       "    <tr>\n",
       "      <th>17</th>\n",
       "      <td>18</td>\n",
       "      <td>22</td>\n",
       "      <td>25</td>\n",
       "    </tr>\n",
       "    <tr>\n",
       "      <th>18</th>\n",
       "      <td>19</td>\n",
       "      <td>15</td>\n",
       "      <td>19</td>\n",
       "    </tr>\n",
       "    <tr>\n",
       "      <th>19</th>\n",
       "      <td>20</td>\n",
       "      <td>17</td>\n",
       "      <td>16</td>\n",
       "    </tr>\n",
       "  </tbody>\n",
       "</table>\n",
       "</div>"
      ],
      "text/plain": [
       "    Student  Pre-module  Post-module\n",
       "0         1          18           22\n",
       "1         2          21           25\n",
       "2         3          16           17\n",
       "3         4          22           24\n",
       "4         5          19           16\n",
       "5         6          24           29\n",
       "6         7          17           20\n",
       "7         8          21           23\n",
       "8         9          23           19\n",
       "9        10          18           20\n",
       "10       11          14           15\n",
       "11       12          16           15\n",
       "12       13          16           18\n",
       "13       14          19           26\n",
       "14       15          18           18\n",
       "15       16          20           24\n",
       "16       17          12           18\n",
       "17       18          22           25\n",
       "18       19          15           19\n",
       "19       20          17           16"
      ]
     },
     "execution_count": 2,
     "metadata": {},
     "output_type": "execute_result"
    }
   ],
   "source": [
    "data = \"\"\"Student,Pre-module,Post-module\n",
    "1,18,22\n",
    "2,21,25\n",
    "3,16,17\n",
    "4,22,24\n",
    "5,19,16\n",
    "6,24,29\n",
    "7,17,20\n",
    "8,21,23\n",
    "9,23,19\n",
    "10,18,20\n",
    "11,14,15\n",
    "12,16,15\n",
    "13,16,18\n",
    "14,19,26\n",
    "15,18,18\n",
    "16,20,24\n",
    "17,12,18\n",
    "18,22,25\n",
    "19,15,19\n",
    "20,17,16\"\"\"\n",
    "\n",
    "from io import StringIO\n",
    "df = pd.read_csv(StringIO(data))\n",
    "df"
   ]
  },
  {
   "cell_type": "markdown",
   "metadata": {
    "id": "pgtwdNNxt4TE"
   },
   "source": [
    "# Soal 1\n",
    "Hitung statistik deskriptif dari nilai ujian setelah vs sebelum mengikuti modul.\n",
    "Apa saja yang bisa disimpulkan?"
   ]
  },
  {
   "cell_type": "code",
   "execution_count": 3,
   "metadata": {},
   "outputs": [
    {
     "data": {
      "text/html": [
       "<div>\n",
       "<style scoped>\n",
       "    .dataframe tbody tr th:only-of-type {\n",
       "        vertical-align: middle;\n",
       "    }\n",
       "\n",
       "    .dataframe tbody tr th {\n",
       "        vertical-align: top;\n",
       "    }\n",
       "\n",
       "    .dataframe thead th {\n",
       "        text-align: right;\n",
       "    }\n",
       "</style>\n",
       "<table border=\"1\" class=\"dataframe\">\n",
       "  <thead>\n",
       "    <tr style=\"text-align: right;\">\n",
       "      <th></th>\n",
       "      <th>Student</th>\n",
       "      <th>Pre-module</th>\n",
       "      <th>Post-module</th>\n",
       "    </tr>\n",
       "  </thead>\n",
       "  <tbody>\n",
       "    <tr>\n",
       "      <th>count</th>\n",
       "      <td>20.00000</td>\n",
       "      <td>20.000000</td>\n",
       "      <td>20.000000</td>\n",
       "    </tr>\n",
       "    <tr>\n",
       "      <th>mean</th>\n",
       "      <td>10.50000</td>\n",
       "      <td>18.400000</td>\n",
       "      <td>20.450000</td>\n",
       "    </tr>\n",
       "    <tr>\n",
       "      <th>std</th>\n",
       "      <td>5.91608</td>\n",
       "      <td>3.152276</td>\n",
       "      <td>4.058454</td>\n",
       "    </tr>\n",
       "    <tr>\n",
       "      <th>min</th>\n",
       "      <td>1.00000</td>\n",
       "      <td>12.000000</td>\n",
       "      <td>15.000000</td>\n",
       "    </tr>\n",
       "    <tr>\n",
       "      <th>25%</th>\n",
       "      <td>5.75000</td>\n",
       "      <td>16.000000</td>\n",
       "      <td>17.750000</td>\n",
       "    </tr>\n",
       "    <tr>\n",
       "      <th>50%</th>\n",
       "      <td>10.50000</td>\n",
       "      <td>18.000000</td>\n",
       "      <td>19.500000</td>\n",
       "    </tr>\n",
       "    <tr>\n",
       "      <th>75%</th>\n",
       "      <td>15.25000</td>\n",
       "      <td>21.000000</td>\n",
       "      <td>24.000000</td>\n",
       "    </tr>\n",
       "    <tr>\n",
       "      <th>max</th>\n",
       "      <td>20.00000</td>\n",
       "      <td>24.000000</td>\n",
       "      <td>29.000000</td>\n",
       "    </tr>\n",
       "  </tbody>\n",
       "</table>\n",
       "</div>"
      ],
      "text/plain": [
       "        Student  Pre-module  Post-module\n",
       "count  20.00000   20.000000    20.000000\n",
       "mean   10.50000   18.400000    20.450000\n",
       "std     5.91608    3.152276     4.058454\n",
       "min     1.00000   12.000000    15.000000\n",
       "25%     5.75000   16.000000    17.750000\n",
       "50%    10.50000   18.000000    19.500000\n",
       "75%    15.25000   21.000000    24.000000\n",
       "max    20.00000   24.000000    29.000000"
      ]
     },
     "execution_count": 3,
     "metadata": {},
     "output_type": "execute_result"
    }
   ],
   "source": [
    "df.describe()"
   ]
  },
  {
   "cell_type": "code",
   "execution_count": 12,
   "metadata": {},
   "outputs": [
    {
     "data": {
      "image/png": "[encoded data removed]",
      "text/plain": [
       "<Figure size 640x480 with 1 Axes>"
      ]
     },
     "metadata": {},
     "output_type": "display_data"
    }
   ],
   "source": [
    "df['Pre-module'].hist()\n",
    "plt.suptitle('nilai siswa Pre-module')\n",
    "plt.xlabel('nilai')\n",
    "plt.ylabel('jumlah siswa')\n",
    "plt.show()"
   ]
  },
  {
   "cell_type": "code",
   "execution_count": 13,
   "metadata": {},
   "outputs": [
    {
     "data": {
      "image/png": "[encoded data removed]",
      "text/plain": [
       "<Figure size 640x480 with 1 Axes>"
      ]
     },
     "metadata": {},
     "output_type": "display_data"
    }
   ],
   "source": [
    "df['Post-module'].hist()\n",
    "plt.suptitle('nilai siswa Post-module')\n",
    "plt.xlabel('nilai')\n",
    "plt.ylabel('jumlah siswa')\n",
    "plt.show()"
   ]
  },
  {
   "cell_type": "code",
   "execution_count": 19,
   "metadata": {},
   "outputs": [
    {
     "data": {
      "text/html": [
       "<div>\n",
       "<style scoped>\n",
       "    .dataframe tbody tr th:only-of-type {\n",
       "        vertical-align: middle;\n",
       "    }\n",
       "\n",
       "    .dataframe tbody tr th {\n",
       "        vertical-align: top;\n",
       "    }\n",
       "\n",
       "    .dataframe thead th {\n",
       "        text-align: right;\n",
       "    }\n",
       "</style>\n",
       "<table border=\"1\" class=\"dataframe\">\n",
       "  <thead>\n",
       "    <tr style=\"text-align: right;\">\n",
       "      <th></th>\n",
       "      <th>Pre-module</th>\n",
       "      <th>Post-module</th>\n",
       "    </tr>\n",
       "  </thead>\n",
       "  <tbody>\n",
       "    <tr>\n",
       "      <th>Pre-module</th>\n",
       "      <td>1.000000</td>\n",
       "      <td>0.717477</td>\n",
       "    </tr>\n",
       "    <tr>\n",
       "      <th>Post-module</th>\n",
       "      <td>0.717477</td>\n",
       "      <td>1.000000</td>\n",
       "    </tr>\n",
       "  </tbody>\n",
       "</table>\n",
       "</div>"
      ],
      "text/plain": [
       "             Pre-module  Post-module\n",
       "Pre-module     1.000000     0.717477\n",
       "Post-module    0.717477     1.000000"
      ]
     },
     "execution_count": 19,
     "metadata": {},
     "output_type": "execute_result"
    }
   ],
   "source": [
    "df[['Pre-module','Post-module']].corr()"
   ]
  },
  {
   "cell_type": "code",
   "execution_count": 14,
   "metadata": {},
   "outputs": [
    {
     "data": {
      "text/plain": [
       "<AxesSubplot:xlabel='Pre-module', ylabel='Post-module'>"
      ]
     },
     "execution_count": 14,
     "metadata": {},
     "output_type": "execute_result"
    },
    {
     "data": {
      "image/png": "[encoded data removed]",
      "text/plain": [
       "<Figure size 640x480 with 1 Axes>"
      ]
     },
     "metadata": {},
     "output_type": "display_data"
    }
   ],
   "source": [
    "df.plot(x='Pre-module',y='Post-module',kind='scatter')"
   ]
  },
  {
   "cell_type": "code",
   "execution_count": 18,
   "metadata": {},
   "outputs": [
    {
     "data": {
      "text/plain": [
       "[]"
      ]
     },
     "execution_count": 18,
     "metadata": {},
     "output_type": "execute_result"
    },
    {
     "data": {
      "image/png": "[encoded data removed]",
      "text/plain": [
       "<Figure size 1000x200 with 1 Axes>"
      ]
     },
     "metadata": {},
     "output_type": "display_data"
    }
   ],
   "source": [
    "plt.figure(figsize=(10,2))\n",
    "b_plot = df.boxplot(column = ['Pre-module','Post-module'],vert=False) \n",
    "b_plot.plot()"
   ]
  },
  {
   "cell_type": "markdown",
   "metadata": {},
   "source": [
    "Kesimpulan:\n",
    "1. ada tren kenaikan nilai siswa setelah pelatihan modul khusus, hal terebut ditunjukan pada gambar visualisasi boxplot post module terjadi pergeseran ke angka yang lebih besar pada nilai quartile 1,2 dan 3, nilai maxsimum dan minimum.\n",
    "2. nilai korelasi pre-module dan post-module sebesar 0,71\n",
    "3. pada visualisisasi scatter plot terdapat data yang outlier, di mana ada siswa yang mengalami kenaikan nilai yang signifikan dan ada siswa yang mengalami penurunan nilai yang signifikan.\n",
    "4. pada grafik histogram nilai siswa post-module, sebaran nilai siswa banyak terkumpul di rentang 15 sampai 21\n",
    "5. nilai standar deviasi terjadi kenaikan menunjukan nilai siswa semakin beragam"
   ]
  },
  {
   "cell_type": "markdown",
   "metadata": {
    "id": "UzCIWcDUuM07"
   },
   "source": [
    "# Soal 2\n",
    "\n",
    "Paired T-test adalah varian dari T-test dimana sebuah sampel akan diukur sebanyak 2 kali (biasanya sebelum vs setelah suatu *treatment*). \n",
    "\n",
    "Lakukan uji hipotesis apakah nilai ujian murid menjadi lebih baik setelah pemberian modul atau tidak.\n",
    "\n",
    "Gunakan code dari dokumentasi berikut\n",
    "https://docs.scipy.org/doc/scipy/reference/generated/scipy.stats.ttest_rel.html"
   ]
  },
  {
   "cell_type": "code",
   "execution_count": 30,
   "metadata": {
    "id": "T-vQ6IZ7rH5F"
   },
   "outputs": [
    {
     "data": {
      "text/plain": [
       "array([18, 21, 16, 22, 19, 24, 17, 21, 23, 18, 14, 16, 16, 19, 18, 20, 12,\n",
       "       22, 15, 17], dtype=int64)"
      ]
     },
     "execution_count": 30,
     "metadata": {},
     "output_type": "execute_result"
    }
   ],
   "source": [
    "'''\n",
    "H0 = tidak ada kenaikan nilai rata- rata siswa\n",
    "H1 = ada kenaikan nilai rata-rata siswa \n",
    "H0 = 18,4\n",
    "H1 > 18,4\n",
    "'''\n",
    "alfa = 0.005\n",
    "data_Pre = df['Pre-module'].values\n",
    "data_Post = df['Post-module'].values"
   ]
  },
  {
   "cell_type": "code",
   "execution_count": 38,
   "metadata": {
    "id": "39qS_EABu-Qg"
   },
   "outputs": [
    {
     "data": {
      "text/plain": [
       "Ttest_relResult(statistic=-3.231252665580312, pvalue=0.002197482996592832)"
      ]
     },
     "execution_count": 38,
     "metadata": {},
     "output_type": "execute_result"
    }
   ],
   "source": [
    "scipy.stats.ttest_rel(data_Pre,data_Post, axis=0, nan_policy='omit', alternative='less')"
   ]
  },
  {
   "cell_type": "markdown",
   "metadata": {},
   "source": [
    "karena pvalue < alfa \n",
    "maka ada bukti untuk menolak H0"
   ]
  }
 ],
 "metadata": {
  "colab": {
   "provenance": []
  },
  "kernelspec": {
   "display_name": "Python 3 (ipykernel)",
   "language": "python",
   "name": "python3"
  },
  "language_info": {
   "codemirror_mode": {
    "name": "ipython",
    "version": 3
   },
   "file_extension": ".py",
   "mimetype": "text/x-python",
   "name": "python",
   "nbconvert_exporter": "python",
   "pygments_lexer": "ipython3",
   "version": "3.9.13"
  }
 },
 "nbformat": 4,
 "nbformat_minor": 1
}
