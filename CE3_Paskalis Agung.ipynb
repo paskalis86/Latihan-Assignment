{
 "cells": [
  {
   "cell_type": "markdown",
   "metadata": {
    "id": "hhIQeEv4JdpK"
   },
   "source": [
    "## Selamat datang di Tantangan Coding Minggu ke-3!\n",
    "### Tema minggu ini adalah: String!\n",
    "\n",
    "Mulai minggu ini, metode inisialisasi fungsi tidak akan diberikan. Anda harus mencari tahu sendiri. Keep up the good work!\n",
    "\n",
    "Anda hanya perlu **menyelesaikan 2 pertanyaan**!"
   ]
  },
  {
   "cell_type": "markdown",
   "metadata": {
    "id": "ZwHc-3vSJdpj"
   },
   "source": [
    "###**Problem 1: Temukan jumlah substring.**"
   ]
  },
  {
   "cell_type": "markdown",
   "metadata": {
    "id": "_rD65MuvJdpm"
   },
   "source": [
    "Buatlah fungsi yang bernama ```substring_count``` yang dapat melakukan: \n",
    "\n",
    "Diberikan string dan substring. Hitung berapa kali substring muncul di string. Input pertama selalu berupa string (yang lebih panjang), dan input kedua selalu berupa substring (yang lebih pendek).\n",
    "\n",
    "##### Example 1:\n",
    "\n",
    "Input:\n",
    "\n",
    "string = 'ABCDCDC'\n",
    "\n",
    "substring = 'CD'\n",
    "\n",
    "Berapa kali 'CD' muncul di 'ABCDCDC'?\n",
    "2 kali! Jadi saat kita menjalankan ```substring_count('ABCDCDC', 'CD')``` hasilnya akan menjadi '2'. \n",
    "\n",
    "Output: 2\n",
    "\n",
    "##### Example 2:\n",
    "\n",
    "String:\n",
    "\n",
    "string = 'ABCDCDC'\n",
    "\n",
    "substring = 'CDC'\n",
    "\n",
    "Berapa kali 'CDC' muncul di 'ABCDCDC'?\n",
    "2 kali! Ya, itu bisa tumpang tindih. AB**CDC**DC, dan ABCD**CDC**. Jadi, saat kita menjalankan ```substring_count('ABCDCDC', 'CDC')``` hasilnya akan '2'. \n",
    "\n",
    "Output: 2\n",
    "\n",
    "##### Example 3:\n",
    "\n",
    "string = 'DEDFDEDEDEG'\n",
    "\n",
    "substring = 'DED'\n",
    "\n",
    "3 kali! Pertama: **DED**FDEDEDEG. Kedua: DEDF**DED**EDEG. Ketiga: DEDFDE**DED**EG.\n",
    "\n",
    "Output: 3"
   ]
  },
  {
   "cell_type": "code",
   "execution_count": null,
   "metadata": {},
   "outputs": [],
   "source": []
  },
  {
   "cell_type": "markdown",
   "metadata": {
    "id": "kPc42YPuJdpw"
   },
   "source": [
    "###**Problem 2: Berapa banyak huruf berbeda yang ada di string?**"
   ]
  },
  {
   "cell_type": "markdown",
   "metadata": {
    "id": "YtkU_gLYJdpx"
   },
   "source": [
    "Buat fungsi yang bernama ```diff_letters``` yang menghitung jumlah huruf yang berbeda yang terdapat pada string\n",
    "\n",
    "Input hanya berupa string tunggal.\n",
    "\n",
    "##### Example 1:\n",
    "\n",
    "Input: 'AAAAAAAAAB'\n",
    "\n",
    "Karena hanya ada 2 huruf berbeda dalam string input, keluarannya adalah 2.\n",
    "\n",
    "Saat kita menjalankan ```diff_letters```, outputnya adalah '2'.\n",
    "\n",
    "Output: 2\n",
    "\n",
    "##### Example 2:\n",
    "\n",
    "Input: 'ABCDAAAABBCCCE'\n",
    "\n",
    "Karena ada 5 huruf berbeda dalam string itu (A, B, C, D, E), hasilnya adalah 5.\n",
    "\n",
    "Output: 5"
   ]
  },
  {
   "cell_type": "code",
   "execution_count": 11,
   "metadata": {
    "id": "uQkNjT2kJdpz"
   },
   "outputs": [
    {
     "name": "stdout",
     "output_type": "stream",
     "text": [
      "output : 5\n"
     ]
    }
   ],
   "source": [
    "input_letter =  'ABCDAAAABBCCCE'\n",
    "\n",
    "def diff_letters(masukan):\n",
    "    s = set(input_letter)\n",
    "    panjang = len(s)\n",
    "    print(f\"output : {panjang}\")\n",
    "\n",
    "diff_letters(input_letter)\n",
    "\n"
   ]
  },
  {
   "cell_type": "markdown",
   "metadata": {
    "id": "fiXI1RgZJdp3"
   },
   "source": [
    "Problem 3: Temukan Jarak Antara Dua Koordinat - Medium"
   ]
  },
  {
   "cell_type": "markdown",
   "metadata": {
    "id": "TZx_zMmbJdp3"
   },
   "source": [
    "Buatlah fungsi yang bernama ```distance``` yang dapat melakukan:\n",
    "\n",
    "Diberikan dua koordinat dalam list. Tugas Anda adalah menghitung jarak antara kedua koordinat tersebut. Input dari fungsi Anda akan berupa string. Koordinat yang muncul pertama adalah koordinat pertama, dan koordinat yang muncul setelah koma adalah koordinat kedua.\n",
    "\n",
    "##### Example 1:\n",
    "\n",
    "Input: \n",
    "\n",
    "'(5,5), (1,2)'\n",
    "\n",
    "Artinya, koordinat titik pertama adalah (5,5), koordinat titik kedua adalah (1,2). Untuk menghitung jarak antara dua titik ini, kami menggunakan rumus jarak euclidean biasa yang dapat dibaca di link berikut: https://wikimedia.org/api/rest_v1/media/math/render/svg/2e0c9ce1b3455cb9e92c6bad6684dbda02f69c82. \n",
    "\n",
    "Jaraknya adalah: \n",
    "\n",
    "Akar kuadrat dari ((5-1)^2 + (5-2)^2) = Akar kuadrat dari (16 + 9) = Akar kuadrat dari (25) = 5.\n",
    "\n",
    "Output: 'Jaraknya adalah 5'\n",
    "\n",
    "Jadi, saat kita menjalankan ```distance('(5,5),(1,2)')``` Outputnya adalah 'Jaraknya adalah 5'.\n",
    "\n",
    "##### Example 2:\n",
    "\n",
    "Input:\n",
    "\n",
    "'(0,-1), (-3,2)'\n",
    "\n",
    "TKoordinat pertama adalah (0,-1), koordinat kedua adalah (-3,2). Jarak antara mereka adalah:\n",
    "\n",
    "Akar kuadrat dari ((0- -3)^2 + (-1-2)^2) = Akar kuadrat dari (9 + 9) = Akar kuadrat dari (18) = 4,242640687\n",
    "\n",
    "Output: 'Jaraknya adalah 4.242640687'\n",
    "\n",
    "Jadi, saat kita menjalankan ```distance('(0,-1),(-3,2)')``` Outputnya adalah 'Jaraknya adalah 4.242640487'\n",
    "\n",
    "##### FAQ:\n",
    "\n",
    "- Question: \"Desimalnya dibuletin ga?\"\n",
    "- Answer: \"Ga usah peduliin format output desimalnya. Mau keluar berapa angka di belakang koma gpp kok. Yang penting value nya bener.\" \n",
    "- Question: \"Lha bedanya apa sama soal week 2?\"\n",
    "- Answer: \"Bedanya kali ini inputnya cuma 1, dan dia berupa teks (string), bukan list kyk minggu lalu. Semangat!\""
   ]
  },
  {
   "cell_type": "code",
   "execution_count": null,
   "metadata": {
    "id": "qcACpDdPJdp8"
   },
   "outputs": [],
   "source": [
    "### Example\n",
    "a = '(5,5),(1,2)'\n",
    "\n",
    "distance(a) \n",
    "\n",
    "# when you run this cell, it is expected that the output will be:\n",
    "# 'The distance is 5'"
   ]
  },
  {
   "cell_type": "code",
   "execution_count": 12,
   "metadata": {
    "id": "_z7gXtaTJdp9"
   },
   "outputs": [
    {
     "name": "stdout",
     "output_type": "stream",
     "text": [
      "\n",
      "The distance is 5.0\n"
     ]
    }
   ],
   "source": [
    "import math as mt\n",
    "a = '(5,5),(1,2)'\n",
    "lala = []\n",
    "def distance(string):\n",
    "    new_a = a.replace(\" \",\"\")\n",
    "    new_a1 = new_a.replace(\"(\",\"\")\n",
    "    new_a2 = new_a1.replace(\")\",\"\")\n",
    "    b = new_a2.split(\",\")\n",
    "    lala.append(b)\n",
    "    x1 = int(lala[0][0])\n",
    "    y1 = int(lala[0][1])\n",
    "    x2 = int(lala[0][2])\n",
    "    y2 = int(lala[0][3])\n",
    "\n",
    "    jarak = mt.sqrt((x1 - x2)**2 + (y1 - y2)**2)\n",
    "\n",
    "    print(f\"\\nThe distance is {jarak}\")\n",
    "\n",
    "distance(a)"
   ]
  }
 ],
 "metadata": {
  "colab": {
   "provenance": []
  },
  "kernelspec": {
   "display_name": "Python 3 (ipykernel)",
   "language": "python",
   "name": "python3"
  },
  "language_info": {
   "codemirror_mode": {
    "name": "ipython",
    "version": 3
   },
   "file_extension": ".py",
   "mimetype": "text/x-python",
   "name": "python",
   "nbconvert_exporter": "python",
   "pygments_lexer": "ipython3",
   "version": "3.9.13"
  }
 },
 "nbformat": 4,
 "nbformat_minor": 1
}
