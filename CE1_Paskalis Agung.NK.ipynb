{
 "cells": [
  {
   "cell_type": "code",
   "execution_count": 1,
   "id": "da9c0d13",
   "metadata": {},
   "outputs": [
    {
     "name": "stdout",
     "output_type": "stream",
     "text": [
      "3\n",
      "6\n",
      "9\n",
      "12\n",
      "15\n",
      "18\n",
      "21\n"
     ]
    }
   ],
   "source": [
    "for angka in range(1,22):\n",
    "    if angka%3 == 0:\n",
    "        print(angka)"
   ]
  },
  {
   "cell_type": "code",
   "execution_count": 3,
   "id": "14255ceb",
   "metadata": {},
   "outputs": [
    {
     "name": "stdout",
     "output_type": "stream",
     "text": [
      "angka 3 BIZZ\n",
      "angka 5 BUZZ\n",
      "angka 6 BIZZ\n",
      "angka 9 BIZZ\n",
      "angka 10 BUZZ\n",
      "angka 12 BIZZ\n",
      "angka 15 BIZZBUZZ\n",
      "angka 18 BIZZ\n",
      "angka 20 BUZZ\n",
      "angka 21 BIZZ\n",
      "angka 24 BIZZ\n",
      "angka 25 BUZZ\n",
      "angka 27 BIZZ\n",
      "angka 30 BIZZBUZZ\n",
      "angka 33 BIZZ\n",
      "angka 35 BUZZ\n",
      "angka 36 BIZZ\n",
      "angka 39 BIZZ\n",
      "angka 40 BUZZ\n",
      "angka 42 BIZZ\n",
      "angka 45 BIZZBUZZ\n",
      "angka 48 BIZZ\n",
      "angka 50 BUZZ\n",
      "angka 51 BIZZ\n",
      "angka 54 BIZZ\n",
      "angka 55 BUZZ\n",
      "angka 57 BIZZ\n",
      "angka 60 BIZZBUZZ\n",
      "angka 63 BIZZ\n",
      "angka 65 BUZZ\n",
      "angka 66 BIZZ\n",
      "angka 69 BIZZ\n",
      "angka 70 BUZZ\n",
      "angka 72 BIZZ\n",
      "angka 75 BIZZBUZZ\n",
      "angka 78 BIZZ\n",
      "angka 80 BUZZ\n",
      "angka 81 BIZZ\n",
      "angka 84 BIZZ\n",
      "angka 85 BUZZ\n",
      "angka 87 BIZZ\n",
      "angka 90 BIZZBUZZ\n",
      "angka 93 BIZZ\n",
      "angka 95 BUZZ\n",
      "angka 96 BIZZ\n",
      "angka 99 BIZZ\n",
      "angka 100 BUZZ\n"
     ]
    }
   ],
   "source": [
    "def bizzbuzz(start_num,end_num):\n",
    "    for angka in range(start_num,(end_num+1)):\n",
    "        if angka%3==0 and angka%5==0:\n",
    "            print(f\"angka {angka} BIZZBUZZ\")\n",
    "        elif angka%3== 0:\n",
    "            print(f\"angka {angka} BIZZ\")\n",
    "        elif angka%5==0:\n",
    "            print(f\"angka {angka} BUZZ\")\n",
    "\n",
    "bizzbuzz(1,100) "
   ]
  },
  {
   "cell_type": "code",
   "execution_count": null,
   "id": "ea39c394",
   "metadata": {},
   "outputs": [],
   "source": []
  }
 ],
 "metadata": {
  "kernelspec": {
   "display_name": "Python 3 (ipykernel)",
   "language": "python",
   "name": "python3"
  },
  "language_info": {
   "codemirror_mode": {
    "name": "ipython",
    "version": 3
   },
   "file_extension": ".py",
   "mimetype": "text/x-python",
   "name": "python",
   "nbconvert_exporter": "python",
   "pygments_lexer": "ipython3",
   "version": "3.9.13"
  }
 },
 "nbformat": 4,
 "nbformat_minor": 5
}
