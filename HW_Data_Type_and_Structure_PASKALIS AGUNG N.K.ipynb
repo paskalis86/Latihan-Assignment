{
 "cells": [
  {
   "cell_type": "code",
   "execution_count": 1,
   "id": "1423ba37",
   "metadata": {},
   "outputs": [
    {
     "name": "stdout",
     "output_type": "stream",
     "text": [
      "Program pemeriksaan angka prima\n",
      "-----------------\n",
      "Masukan bilangan bulat: 4\n",
      "bukan bilangan prima\n"
     ]
    }
   ],
   "source": [
    "print(\"Program pemeriksaan angka prima\\n-----------------\")\n",
    "data = int(input(\"Masukan bilangan bulat: \"))\n",
    "def is_prima(x):\n",
    "    if 0 < data <= 2:\n",
    "       return \"bilangan prima\"\n",
    "    else:\n",
    "         for angka in range(2,x):\n",
    "           hasil = x % angka\n",
    "           if hasil == 0:\n",
    "            return \"bukan bilangan prima\"\n",
    "    return \"bilangan prima\"\n",
    "print(is_prima(data))"
   ]
  },
  {
   "cell_type": "code",
   "execution_count": 3,
   "id": "2609bd20",
   "metadata": {},
   "outputs": [
    {
     "name": "stdout",
     "output_type": "stream",
     "text": [
      "Program evenly space\n",
      "-------------\n",
      "masukan angka di bawah\n",
      "angka pertama: 4\n",
      "angka terakhir: 10\n",
      "banyaknya anggota dalam list: 4\n",
      "[ 4.  6.  8. 10.]\n"
     ]
    }
   ],
   "source": [
    "import numpy as np\n",
    "def even_space(x,y,z):\n",
    "    kotak = y - x\n",
    "    segitiga = z - 1\n",
    "    jeda = (kotak/segitiga)\n",
    "\n",
    "    daftar_list = np.arange(x,(y+1),jeda)\n",
    "    print(daftar_list)\n",
    "\n",
    "print(\"Program evenly space\\n-------------\")\n",
    "print(\"masukan angka di bawah\")\n",
    "x = int(input(\"angka pertama: \"))\n",
    "y = int(input(\"angka terakhir: \"))\n",
    "z = int(input(\"banyaknya anggota dalam list: \"))\n",
    "even_space(x,y,z)"
   ]
  },
  {
   "cell_type": "code",
   "execution_count": null,
   "id": "5e89b476",
   "metadata": {},
   "outputs": [],
   "source": []
  }
 ],
 "metadata": {
  "kernelspec": {
   "display_name": "Python 3 (ipykernel)",
   "language": "python",
   "name": "python3"
  },
  "language_info": {
   "codemirror_mode": {
    "name": "ipython",
    "version": 3
   },
   "file_extension": ".py",
   "mimetype": "text/x-python",
   "name": "python",
   "nbconvert_exporter": "python",
   "pygments_lexer": "ipython3",
   "version": "3.9.13"
  }
 },
 "nbformat": 4,
 "nbformat_minor": 5
}
