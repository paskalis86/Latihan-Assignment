{
 "cells": [
  {
   "cell_type": "markdown",
   "metadata": {
    "id": "cMrT-5F164qj"
   },
   "source": [
    "## Welcome to the Coding Challenge Part 2!"
   ]
  },
  {
   "cell_type": "markdown",
   "metadata": {
    "id": "79NwqjIq64qr"
   },
   "source": [
    "###**Problem 1: Who is in the third place?**"
   ]
  },
  {
   "cell_type": "markdown",
   "metadata": {
    "id": "9db_O8Co64qs"
   },
   "source": [
    "Buatlah fungsi dengan nama ```third_place``` yang dapat melakukan aktifitas berikut: \n",
    "\n",
    "Diberikan daftar nilai ujian dan daftar nama peserta. Output yang diinginkan adalah nama peserta yang mendapat nilai terbaik ke-3. Aturan penentuan urutan skor terbaik adalah sebagai berikut:\n",
    "- Skor yang lebih tinggi lebih baik\n",
    "- Apabila beberapa peserta memiliki skor tes yang sama, mereka dapat menempati nilai peringkat yang sama. Misalnya, jika 2 peserta mendapat nilai 100, maka keduanya menempati urutan pertama.\n",
    "\n",
    "Input pertama dari fungsi adalah daftar nama, dan input kedua pada fungsi adalah daftar skor.\n",
    "\n",
    "##### Example 1:\n",
    "\n",
    "Input:\n",
    "\n",
    "names = [Andi, Budi, Charlie, Dilan, Echa]\n",
    "\n",
    "score = [80, 90, 95, 100, 85]\n",
    "\n",
    "Artinya, Andi mendapat nilai 80, Budi mendapat nilai 90, Charlie mendapat nilai 95, Dilan mendapat nilai 100, dan Echa mendapat nilai 85. Nilai terbaik pertama adalah 100, dan Dilan mendapat nilai. Skor terbaik kedua adalah 95, dan Charlie mendapatkannya. Skor terbaik ketiga adalah 90, dan Budi mendapatkannya. Jadi output kita harus Budi.\n",
    "\n",
    "Output: 'The third winner: Budi'.\n",
    "\n",
    "Saat kita menjalankan ```third_place(names, score)```, outputnya akan 'The third winner: Budi'.\n",
    "\n",
    "##### Example 2:\n",
    "\n",
    "Input:\n",
    "\n",
    "names = [Andi, Budi, Charlie, Dilan, Echa]\n",
    "\n",
    "score = [80, 80, 80, 100, 90]\n",
    "\n",
    "Tartinya, Andi, Budi, dan Charlie mendapat nilai 80, Dilan mendapat nilai 100, dan Echa mendapat nilai 90. Nilai terbaik ketiga adalah 80, dan output kita harus mencantumkan SEMUA peserta yang mendapat nilai 80. \n",
    "\n",
    "Output: 'The third winner: Andi, Budi, Charlie'.\n",
    "\n",
    "Apabila kita menjalankan ```third_place(names, score)```, outputnya adalah 'The third winner: Andi, Budi, Charlie'.\n",
    "\n",
    "\n",
    "##### Example 3:\n",
    "\n",
    "Input:\n",
    "\n",
    "names = [Andi, Budi, Charlie, Dilan, Echa, Fanya]\n",
    "\n",
    "score = [80, 90, 90, 100, 100, 80]\n",
    "\n",
    "Skor terbaik pertama (juara pertama) adalah 100 - Dilan dan Echa berbagi posisi ini. Skor terbaik kedua (pemenang kedua) adalah 90 - Budi dan Charlie berbagi posisi ini. Skor terbaik ketiga (juara ketiga) adalah 80, dan itu dibagi oleh Andi dan Fanya. Jadi, output kita harusnya Andi dan Fanya.\n",
    "\n",
    "Output: 'The third winner: Andi, Fanya'."
   ]
  },
  {
   "cell_type": "code",
   "execution_count": 1,
   "metadata": {
    "id": "QOoSINMz64qv"
   },
   "outputs": [
    {
     "name": "stdout",
     "output_type": "stream",
     "text": [
      "    name  score\n",
      "0  Johan    100\n",
      "1  Agung     95\n",
      "2   Andi     90\n",
      "3   Deri     90\n",
      "4   Budi     75\n",
      "\n",
      "The third winner is ['Andi', 'Deri']\n"
     ]
    }
   ],
   "source": [
    "import pandas as pd\n",
    "import numpy as np \n",
    "\n",
    "# nomor 1 \n",
    "nama = ['Andi', 'Budi', 'Agung', 'Johan','Deri']\n",
    "nilai = [90,75,95,100,90]\n",
    "\n",
    "def third_place(names,score):\n",
    "    data = {\n",
    "        'name': names,\n",
    "        'score':score\n",
    "    }\n",
    "    df = pd.DataFrame(data).sort_values(by='score', ascending=False).reset_index() \n",
    "    df_1 = df.drop(\"index\",axis='columns')\n",
    "    print(df_1)\n",
    "    df_2 = df.drop_duplicates('score').sort_values(by='score',axis='index', ascending=False)\n",
    "    #x = df_2.__len__()\n",
    "    #print(x)\n",
    "    value_1 = df_2.at[2,'score']\n",
    "    urutan_ketiga = df[df['score'] == value_1]\n",
    "    get_value = urutan_ketiga['name'].tolist()\n",
    "    print(f\"\\nThe third winner is {get_value[0:]}\")\n",
    "third_place(nama,nilai)"
   ]
  },
  {
   "cell_type": "markdown",
   "metadata": {
    "id": "1ydxvEez64q3"
   },
   "source": [
    "###**Problem 2: Find the Square Root!**"
   ]
  },
  {
   "cell_type": "markdown",
   "metadata": {
    "id": "nvcBPlgV64q5"
   },
   "source": [
    "Buatlah fungsi dengan nama ```square_root``` yang dapat melakukan fungsi berikut:\n",
    "\n",
    "Diberikan polinomial orde kedua, temukan akarnya (akar harus dalam bilangan real). Inputnya adalah 3 angka, masing-masing mewakili 'a', 'b', dan 'c', dalam ax^2 + bx + c = 0.\n",
    "\n",
    "Tugas Anda adalah mencari akar dari ax^2 + bx + c = 0. \n",
    "\n",
    "Namun, perhatikan bahwa terkadang persamaan tidak dapat diselesaikan, atau hanya memiliki satu solusi, bukan dua. Fungsi Anda juga harus mempertimbangkan hal ini.\n",
    "\n",
    "Input fungsi Anda adalah 3 angka, angka pertama adalah konstanta 'a', angka kedua adalah konstanta 'b', dan angka ketiga adalah konstanta 'c'.\n",
    "\n",
    "##### Example 1:\n",
    "\n",
    "Input: a = 1, b = -5, c = 6.\n",
    "\n",
    "Artinya, persamaannya adalah 1x^2 - 5x + 6 = 0.\n",
    "Persamaan ini memiliki dua solusi, solusi pertama adalah x = 3, dan solusi kedua adalah x = 2. Jadi, keluaran Anda seharusnya adalah:\n",
    "\n",
    "Output: 'X1 = 3, X2 = 2'.\n",
    "\n",
    "Apabila kita menjalankan kode ```square_root(1, -5, 6)``` maka outputnya adalah: 'X1 = 3, X2 = 2'\n",
    "\n",
    "##### Example 2:\n",
    "\n",
    "Input: a = 2, b = 4, c = 2.\n",
    "\n",
    "Artinya, persamaannya adalah 2x^2 + 4x + 2 = 0.\n",
    "Persamaan ini hanya memiliki satu solusi, yaitu x = -1.\n",
    "\n",
    "Output; 'X = -1'.\n",
    "\n",
    "##### Example 3:\n",
    "\n",
    "Input: a = 1, b = 1, c = 9.\n",
    "\n",
    "Artinya, persamaannya adalah x^2 + x + 9 = 0.\n",
    "Persamaan ini tidak memiliki solusi nyata. (Jika Anda telah belajar tentang bilangan imajiner atau kompleks, solusi dari persamaan ini adalah bilangan-bilangan tersebut. Tapi di sini, kita hanya akan berurusan dengan bilangan real).\n",
    "\n",
    "Output: 'No solution'."
   ]
  },
  {
   "cell_type": "code",
   "execution_count": 10,
   "metadata": {
    "id": "i3_ebfGq64q6"
   },
   "outputs": [
    {
     "name": "stdout",
     "output_type": "stream",
     "text": [
      "\n",
      "Selamat datang di program pencari akar-akar\n",
      "dari persamaan kuadrat\n",
      "==========================================\n",
      "\n",
      "persamaan kuadrat ax^2 + bx + c = 0\n",
      "Masukan nilai a : 2\n",
      "Masukan nilai b : 4\n",
      "Masukan nilai c : 2\n",
      "akar-akar dari persamaan kuadrat 2x^2 + 4x + 2 = 0 adalah \n",
      "x = -1.0\n"
     ]
    }
   ],
   "source": [
    "import math as mt \n",
    "\n",
    "def square_root():\n",
    "    print(f\"\\nSelamat datang di program pencari akar-akar\\ndari persamaan kuadrat\")\n",
    "    print(\"==========================================\\n\")\n",
    "    print(\"persamaan kuadrat ax^2 + bx + c = 0\")\n",
    "    a = int(input(\"Masukan nilai a : \"))\n",
    "    b = int(input(\"Masukan nilai b : \"))\n",
    "    c = int(input(\"Masukan nilai c : \"))\n",
    "\n",
    "    D = b**2 - (4*a*c)\n",
    "    if D > 0 :\n",
    "        x1 = (-b + (mt.sqrt(D)))/(2*a)\n",
    "        x2 = (-b - (mt.sqrt(D)))/(2*a)\n",
    "        print(f\"akar - akar dari persamaan kuadrat {a}x^2 + {b}x + {c} = 0 adalah \")\n",
    "        print(f\"x1 = {round(x1,2)}\")\n",
    "        print(f\"x2 = {round(x2,2)}\")\n",
    "    \n",
    "    elif D == 0 :\n",
    "        x = (-b + (mt.sqrt(D)))/(2*a)\n",
    "        print(f\"akar-akar dari persamaan kuadrat {a}x^2 + {b}x + {c} = 0 adalah \")\n",
    "        print(f\"x = {round(x,2)}\")\n",
    "        \n",
    "    else :\n",
    "        print(f\"No Solution\")\n",
    "\n",
    "square_root()\n"
   ]
  },
  {
   "cell_type": "markdown",
   "metadata": {
    "id": "NntHmMB164q-"
   },
   "source": [
    "###**Problem 3: Find Distance Between Two Coordinates - Easy**"
   ]
  },
  {
   "cell_type": "markdown",
   "metadata": {
    "id": "12EaDJlE64q_"
   },
   "source": [
    "Buatlah fungsi dengan namna ```distance``` yang dapat melakukan fungsi berikut:\n",
    "\n",
    "Diberikan dua koordinat dalam daftar. Tugas Anda adalah menghitung jarak antara kedua koordinat tersebut. Input dari fungsi Anda akan menjadi dua daftar. Setiap daftar berisi 2 anggota, mewakili posisi x dan y.\n",
    "\n",
    "##### Example 1:\n",
    "\n",
    "Input: \n",
    "\n",
    "point_1 = [5, 5]\n",
    "\n",
    "point_2 = [1, 2]\n",
    "\n",
    "Artinya, koordinat titik pertama adalah (5,5), koordinat titik kedua adalah (1,2). Untuk menghitung jarak antara dua titik ini, kami menggunakan rumus jarak euclidean biasa di sini: https://wikimedia.org/api/rest_v1/media/math/render/svg/2e0c9ce1b3455cb9e92c6bad6684dbda02f69c82. \n",
    "\n",
    "Jaraknya adalah: \n",
    "\n",
    "Akar kuadrat dari ((5-1)^2 + (5-2)^2) = Akar kuadrat dari (16 + 9) = Akar kuadrat dari (25) = 5.\n",
    "\n",
    "Output: 'The distance is 5.'\n",
    "\n",
    "Maka, ketika kita menjalankan kode ```distance(point_1, point_2)``` outputnya akan 'The distance is 5'.\n",
    "\n",
    "##### Example 2:\n",
    "\n",
    "Input:\n",
    "\n",
    "point_1 = [0,-1]\n",
    "\n",
    "point_2 = [-3, 2]\n",
    "\n",
    "Koordinat pertama adalah (0,-1), koordinat kedua adalah (-3,2). Jarak antara mereka adalah:\n",
    "\n",
    "Akar kuadrat dari ((0- -3)^2 + (-1-2)^2) = Akar kuadrat dari (9 + 9) = Akar kuadrat dari (18) = 4,242640687\n",
    "\n",
    "Output: 'The distance is 4.242640687'.\n",
    "\n",
    "Maka, apabila kita menjalankan kode ```distance(point_1, point_2)``` outputnya adalah 'The distance is 4.242640487'.\n",
    "\n",
    "##### FAQ:\n",
    "\n",
    "- Question: \"Desimalnya dibuletin ga?\"\n",
    "- Answer: \"Ga usah peduliin format output desimalnya. Mau keluar berapa angka di belakang koma gpp kok. Yang penting value nya bener.\" "
   ]
  },
  {
   "cell_type": "code",
   "execution_count": 12,
   "metadata": {
    "id": "4rmwX2y564rA"
   },
   "outputs": [
    {
     "name": "stdout",
     "output_type": "stream",
     "text": [
      "\n",
      "Selamat datang di program pencari jarak dua titik\n",
      "\n",
      "Masukan nilai x1 : 0\n",
      "Masukan nilai y1 : -1\n",
      "Masukan nilai x2 : -3\n",
      "Masukan nilai y2 : 2\n",
      "\n",
      "Jarak dari tiitk [0.0, -1.0] ke titik [-3.0, 2.0] adalah 4.242640687119285\n"
     ]
    }
   ],
   "source": [
    "import math as mt\n",
    "\n",
    "\n",
    "def distance():\n",
    "    print(f\"\\nSelamat datang di program pencari jarak dua titik\\n\")\n",
    "    x1 = float(input(\"Masukan nilai x1 : \"))\n",
    "    y1 = float(input(\"Masukan nilai y1 : \"))\n",
    "    x2 = float(input(\"Masukan nilai x2 : \"))\n",
    "    y2 = float(input(\"Masukan nilai y2 : \"))\n",
    "\n",
    "    point_1 = [x1,y1]\n",
    "    point_2 = [x2,y2]\n",
    "    jarak = mt.sqrt((x1 - x2)**2 + (y1 - y2)**2)\n",
    "\n",
    "    print(f\"\\nJarak dari tiitk {point_1} ke titik {point_2} adalah {jarak}\")\n",
    "\n",
    "distance()"
   ]
  },
  {
   "cell_type": "code",
   "execution_count": null,
   "metadata": {},
   "outputs": [],
   "source": []
  }
 ],
 "metadata": {
  "colab": {
   "provenance": []
  },
  "kernelspec": {
   "display_name": "Python 3 (ipykernel)",
   "language": "python",
   "name": "python3"
  },
  "language_info": {
   "codemirror_mode": {
    "name": "ipython",
    "version": 3
   },
   "file_extension": ".py",
   "mimetype": "text/x-python",
   "name": "python",
   "nbconvert_exporter": "python",
   "pygments_lexer": "ipython3",
   "version": "3.9.13"
  }
 },
 "nbformat": 4,
 "nbformat_minor": 1
}
